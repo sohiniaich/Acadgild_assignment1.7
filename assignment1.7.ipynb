{
 "cells": [
  {
   "cell_type": "code",
   "execution_count": 2,
   "metadata": {},
   "outputs": [
    {
     "name": "stdout",
     "output_type": "stream",
     "text": [
      "enter the string : AcadGild\n",
      "reverse of the string is:\n",
      "dliGdacA\n"
     ]
    }
   ],
   "source": [
    "#A Python program to reverse a word after accepting the input from the user.\n",
    "\n",
    "a=str(input(\"enter the string : \"))\n",
    "print(\"reverse of the string is:\")\n",
    "print(a[::-1])"
   ]
  }
 ],
 "metadata": {
  "kernelspec": {
   "display_name": "Python 3",
   "language": "python",
   "name": "python3"
  },
  "language_info": {
   "codemirror_mode": {
    "name": "ipython",
    "version": 3
   },
   "file_extension": ".py",
   "mimetype": "text/x-python",
   "name": "python",
   "nbconvert_exporter": "python",
   "pygments_lexer": "ipython3",
   "version": "3.6.4"
  }
 },
 "nbformat": 4,
 "nbformat_minor": 2
}
